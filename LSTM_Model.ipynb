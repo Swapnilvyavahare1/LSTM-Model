{
  "nbformat": 4,
  "nbformat_minor": 0,
  "metadata": {
    "colab": {
      "provenance": []
    },
    "kernelspec": {
      "name": "python3",
      "display_name": "Python 3"
    },
    "language_info": {
      "name": "python"
    },
    "accelerator": "GPU",
    "gpuClass": "standard"
  },
  "cells": [
    {
      "cell_type": "markdown",
      "source": [
        "LSTM for Sentiment classification in IMDB dataset"
      ],
      "metadata": {
        "id": "k3znbuJG-94r"
      }
    },
    {
      "cell_type": "code",
      "execution_count": 1,
      "metadata": {
        "id": "BszkLQGoL8KK"
      },
      "outputs": [],
      "source": [
        "import numpy as np\n",
        "import pandas as pd\n",
        "import tensorflow as tf\n",
        "from tensorflow import keras\n",
        "from keras.datasets import imdb\n",
        "from keras.models import Sequential\n",
        "from keras.layers import Dense, LSTM, Embedding\n",
        "from keras.preprocessing import sequence\n",
        "np.random.seed(117)"
      ]
    },
    {
      "cell_type": "code",
      "source": [
        "top_words=5000\n",
        "(x_train,y_train),(x_test,y_test)=imdb.load_data(num_words=top_words)"
      ],
      "metadata": {
        "colab": {
          "base_uri": "https://localhost:8080/"
        },
        "id": "x0sQmNi__ihq",
        "outputId": "04f7bb8a-23f1-4e76-cfdd-7d97c9bf121c"
      },
      "execution_count": 2,
      "outputs": [
        {
          "output_type": "stream",
          "name": "stdout",
          "text": [
            "Downloading data from https://storage.googleapis.com/tensorflow/tf-keras-datasets/imdb.npz\n",
            "17464789/17464789 [==============================] - 0s 0us/step\n"
          ]
        }
      ]
    },
    {
      "cell_type": "code",
      "source": [
        "x_train.shape"
      ],
      "metadata": {
        "colab": {
          "base_uri": "https://localhost:8080/"
        },
        "id": "wui0JXwG_ieZ",
        "outputId": "821b39f6-f2d3-47b8-9d64-5e815db35682"
      },
      "execution_count": 3,
      "outputs": [
        {
          "output_type": "execute_result",
          "data": {
            "text/plain": [
              "(25000,)"
            ]
          },
          "metadata": {},
          "execution_count": 3
        }
      ]
    },
    {
      "cell_type": "code",
      "source": [
        "max(np.max(x_train))"
      ],
      "metadata": {
        "colab": {
          "base_uri": "https://localhost:8080/"
        },
        "id": "1dKPmhQa_iZR",
        "outputId": "aab8b932-9f64-4a87-cb2c-8dc85d8f81e6"
      },
      "execution_count": 4,
      "outputs": [
        {
          "output_type": "execute_result",
          "data": {
            "text/plain": [
              "4987"
            ]
          },
          "metadata": {},
          "execution_count": 4
        }
      ]
    },
    {
      "cell_type": "code",
      "source": [
        "max(np.max(x_test))"
      ],
      "metadata": {
        "colab": {
          "base_uri": "https://localhost:8080/"
        },
        "id": "s3lRkvde_iW8",
        "outputId": "804446a7-86e4-4cb8-85bd-3f1074eb974b"
      },
      "execution_count": 5,
      "outputs": [
        {
          "output_type": "execute_result",
          "data": {
            "text/plain": [
              "4998"
            ]
          },
          "metadata": {},
          "execution_count": 5
        }
      ]
    },
    {
      "cell_type": "code",
      "source": [
        "x_train"
      ],
      "metadata": {
        "colab": {
          "base_uri": "https://localhost:8080/"
        },
        "id": "V4zErIKP_iUJ",
        "outputId": "ffd82017-2ab9-47ac-ebce-ad80bc3aa787"
      },
      "execution_count": 6,
      "outputs": [
        {
          "output_type": "execute_result",
          "data": {
            "text/plain": [
              "array([list([1, 14, 22, 16, 43, 530, 973, 1622, 1385, 65, 458, 4468, 66, 3941, 4, 173, 36, 256, 5, 25, 100, 43, 838, 112, 50, 670, 2, 9, 35, 480, 284, 5, 150, 4, 172, 112, 167, 2, 336, 385, 39, 4, 172, 4536, 1111, 17, 546, 38, 13, 447, 4, 192, 50, 16, 6, 147, 2025, 19, 14, 22, 4, 1920, 4613, 469, 4, 22, 71, 87, 12, 16, 43, 530, 38, 76, 15, 13, 1247, 4, 22, 17, 515, 17, 12, 16, 626, 18, 2, 5, 62, 386, 12, 8, 316, 8, 106, 5, 4, 2223, 2, 16, 480, 66, 3785, 33, 4, 130, 12, 16, 38, 619, 5, 25, 124, 51, 36, 135, 48, 25, 1415, 33, 6, 22, 12, 215, 28, 77, 52, 5, 14, 407, 16, 82, 2, 8, 4, 107, 117, 2, 15, 256, 4, 2, 7, 3766, 5, 723, 36, 71, 43, 530, 476, 26, 400, 317, 46, 7, 4, 2, 1029, 13, 104, 88, 4, 381, 15, 297, 98, 32, 2071, 56, 26, 141, 6, 194, 2, 18, 4, 226, 22, 21, 134, 476, 26, 480, 5, 144, 30, 2, 18, 51, 36, 28, 224, 92, 25, 104, 4, 226, 65, 16, 38, 1334, 88, 12, 16, 283, 5, 16, 4472, 113, 103, 32, 15, 16, 2, 19, 178, 32]),\n",
              "       list([1, 194, 1153, 194, 2, 78, 228, 5, 6, 1463, 4369, 2, 134, 26, 4, 715, 8, 118, 1634, 14, 394, 20, 13, 119, 954, 189, 102, 5, 207, 110, 3103, 21, 14, 69, 188, 8, 30, 23, 7, 4, 249, 126, 93, 4, 114, 9, 2300, 1523, 5, 647, 4, 116, 9, 35, 2, 4, 229, 9, 340, 1322, 4, 118, 9, 4, 130, 4901, 19, 4, 1002, 5, 89, 29, 952, 46, 37, 4, 455, 9, 45, 43, 38, 1543, 1905, 398, 4, 1649, 26, 2, 5, 163, 11, 3215, 2, 4, 1153, 9, 194, 775, 7, 2, 2, 349, 2637, 148, 605, 2, 2, 15, 123, 125, 68, 2, 2, 15, 349, 165, 4362, 98, 5, 4, 228, 9, 43, 2, 1157, 15, 299, 120, 5, 120, 174, 11, 220, 175, 136, 50, 9, 4373, 228, 2, 5, 2, 656, 245, 2350, 5, 4, 2, 131, 152, 491, 18, 2, 32, 2, 1212, 14, 9, 6, 371, 78, 22, 625, 64, 1382, 9, 8, 168, 145, 23, 4, 1690, 15, 16, 4, 1355, 5, 28, 6, 52, 154, 462, 33, 89, 78, 285, 16, 145, 95]),\n",
              "       list([1, 14, 47, 8, 30, 31, 7, 4, 249, 108, 7, 4, 2, 54, 61, 369, 13, 71, 149, 14, 22, 112, 4, 2401, 311, 12, 16, 3711, 33, 75, 43, 1829, 296, 4, 86, 320, 35, 534, 19, 263, 4821, 1301, 4, 1873, 33, 89, 78, 12, 66, 16, 4, 360, 7, 4, 58, 316, 334, 11, 4, 1716, 43, 645, 662, 8, 257, 85, 1200, 42, 1228, 2578, 83, 68, 3912, 15, 36, 165, 1539, 278, 36, 69, 2, 780, 8, 106, 14, 2, 1338, 18, 6, 22, 12, 215, 28, 610, 40, 6, 87, 326, 23, 2300, 21, 23, 22, 12, 272, 40, 57, 31, 11, 4, 22, 47, 6, 2307, 51, 9, 170, 23, 595, 116, 595, 1352, 13, 191, 79, 638, 89, 2, 14, 9, 8, 106, 607, 624, 35, 534, 6, 227, 7, 129, 113]),\n",
              "       ...,\n",
              "       list([1, 11, 6, 230, 245, 2, 9, 6, 1225, 446, 2, 45, 2174, 84, 2, 4007, 21, 4, 912, 84, 2, 325, 725, 134, 2, 1715, 84, 5, 36, 28, 57, 1099, 21, 8, 140, 8, 703, 5, 2, 84, 56, 18, 1644, 14, 9, 31, 7, 4, 2, 1209, 2295, 2, 1008, 18, 6, 20, 207, 110, 563, 12, 8, 2901, 2, 8, 97, 6, 20, 53, 4767, 74, 4, 460, 364, 1273, 29, 270, 11, 960, 108, 45, 40, 29, 2961, 395, 11, 6, 4065, 500, 7, 2, 89, 364, 70, 29, 140, 4, 64, 4780, 11, 4, 2678, 26, 178, 4, 529, 443, 2, 5, 27, 710, 117, 2, 2, 165, 47, 84, 37, 131, 818, 14, 595, 10, 10, 61, 1242, 1209, 10, 10, 288, 2260, 1702, 34, 2901, 2, 4, 65, 496, 4, 231, 7, 790, 5, 6, 320, 234, 2766, 234, 1119, 1574, 7, 496, 4, 139, 929, 2901, 2, 2, 5, 4241, 18, 4, 2, 2, 250, 11, 1818, 2, 4, 4217, 2, 747, 1115, 372, 1890, 1006, 541, 2, 7, 4, 59, 2, 4, 3586, 2]),\n",
              "       list([1, 1446, 2, 69, 72, 3305, 13, 610, 930, 8, 12, 582, 23, 5, 16, 484, 685, 54, 349, 11, 4120, 2959, 45, 58, 1466, 13, 197, 12, 16, 43, 23, 2, 5, 62, 30, 145, 402, 11, 4131, 51, 575, 32, 61, 369, 71, 66, 770, 12, 1054, 75, 100, 2198, 8, 4, 105, 37, 69, 147, 712, 75, 3543, 44, 257, 390, 5, 69, 263, 514, 105, 50, 286, 1814, 23, 4, 123, 13, 161, 40, 5, 421, 4, 116, 16, 897, 13, 2, 40, 319, 2, 112, 2, 11, 4803, 121, 25, 70, 3468, 4, 719, 3798, 13, 18, 31, 62, 40, 8, 2, 4, 2, 7, 14, 123, 5, 942, 25, 8, 721, 12, 145, 5, 202, 12, 160, 580, 202, 12, 6, 52, 58, 2, 92, 401, 728, 12, 39, 14, 251, 8, 15, 251, 5, 2, 12, 38, 84, 80, 124, 12, 9, 23]),\n",
              "       list([1, 17, 6, 194, 337, 7, 4, 204, 22, 45, 254, 8, 106, 14, 123, 4, 2, 270, 2, 5, 2, 2, 732, 2098, 101, 405, 39, 14, 1034, 4, 1310, 9, 115, 50, 305, 12, 47, 4, 168, 5, 235, 7, 38, 111, 699, 102, 7, 4, 4039, 2, 9, 24, 6, 78, 1099, 17, 2345, 2, 21, 27, 2, 2, 5, 2, 1603, 92, 1183, 4, 1310, 7, 4, 204, 42, 97, 90, 35, 221, 109, 29, 127, 27, 118, 8, 97, 12, 157, 21, 2, 2, 9, 6, 66, 78, 1099, 4, 631, 1191, 5, 2642, 272, 191, 1070, 6, 2, 8, 2197, 2, 2, 544, 5, 383, 1271, 848, 1468, 2, 497, 2, 8, 1597, 2, 2, 21, 60, 27, 239, 9, 43, 2, 209, 405, 10, 10, 12, 764, 40, 4, 248, 20, 12, 16, 5, 174, 1791, 72, 7, 51, 6, 1739, 22, 4, 204, 131, 9])],\n",
              "      dtype=object)"
            ]
          },
          "metadata": {},
          "execution_count": 6
        }
      ]
    },
    {
      "cell_type": "code",
      "source": [
        "# Padding is required for making same length in each IMDB review.\n",
        "from keras.utils import pad_sequences"
      ],
      "metadata": {
        "id": "o5ee2IWl_iRR"
      },
      "execution_count": 7,
      "outputs": []
    },
    {
      "cell_type": "code",
      "source": [
        "max_review_length=600\n",
        "x_train= pad_sequences(x_train, maxlen=max_review_length)\n",
        "x_test= pad_sequences(x_test, maxlen=max_review_length)"
      ],
      "metadata": {
        "id": "7FoTH2s7_iOT"
      },
      "execution_count": 8,
      "outputs": []
    },
    {
      "cell_type": "code",
      "source": [
        "x_train[1]"
      ],
      "metadata": {
        "colab": {
          "base_uri": "https://localhost:8080/"
        },
        "id": "flgjulTG_iMB",
        "outputId": "bc046a71-9c25-4c56-af23-966166d553b3"
      },
      "execution_count": 9,
      "outputs": [
        {
          "output_type": "execute_result",
          "data": {
            "text/plain": [
              "array([   0,    0,    0,    0,    0,    0,    0,    0,    0,    0,    0,\n",
              "          0,    0,    0,    0,    0,    0,    0,    0,    0,    0,    0,\n",
              "          0,    0,    0,    0,    0,    0,    0,    0,    0,    0,    0,\n",
              "          0,    0,    0,    0,    0,    0,    0,    0,    0,    0,    0,\n",
              "          0,    0,    0,    0,    0,    0,    0,    0,    0,    0,    0,\n",
              "          0,    0,    0,    0,    0,    0,    0,    0,    0,    0,    0,\n",
              "          0,    0,    0,    0,    0,    0,    0,    0,    0,    0,    0,\n",
              "          0,    0,    0,    0,    0,    0,    0,    0,    0,    0,    0,\n",
              "          0,    0,    0,    0,    0,    0,    0,    0,    0,    0,    0,\n",
              "          0,    0,    0,    0,    0,    0,    0,    0,    0,    0,    0,\n",
              "          0,    0,    0,    0,    0,    0,    0,    0,    0,    0,    0,\n",
              "          0,    0,    0,    0,    0,    0,    0,    0,    0,    0,    0,\n",
              "          0,    0,    0,    0,    0,    0,    0,    0,    0,    0,    0,\n",
              "          0,    0,    0,    0,    0,    0,    0,    0,    0,    0,    0,\n",
              "          0,    0,    0,    0,    0,    0,    0,    0,    0,    0,    0,\n",
              "          0,    0,    0,    0,    0,    0,    0,    0,    0,    0,    0,\n",
              "          0,    0,    0,    0,    0,    0,    0,    0,    0,    0,    0,\n",
              "          0,    0,    0,    0,    0,    0,    0,    0,    0,    0,    0,\n",
              "          0,    0,    0,    0,    0,    0,    0,    0,    0,    0,    0,\n",
              "          0,    0,    0,    0,    0,    0,    0,    0,    0,    0,    0,\n",
              "          0,    0,    0,    0,    0,    0,    0,    0,    0,    0,    0,\n",
              "          0,    0,    0,    0,    0,    0,    0,    0,    0,    0,    0,\n",
              "          0,    0,    0,    0,    0,    0,    0,    0,    0,    0,    0,\n",
              "          0,    0,    0,    0,    0,    0,    0,    0,    0,    0,    0,\n",
              "          0,    0,    0,    0,    0,    0,    0,    0,    0,    0,    0,\n",
              "          0,    0,    0,    0,    0,    0,    0,    0,    0,    0,    0,\n",
              "          0,    0,    0,    0,    0,    0,    0,    0,    0,    0,    0,\n",
              "          0,    0,    0,    0,    0,    0,    0,    0,    0,    0,    0,\n",
              "          0,    0,    0,    0,    0,    0,    0,    0,    0,    0,    0,\n",
              "          0,    0,    0,    0,    0,    0,    0,    0,    0,    0,    0,\n",
              "          0,    0,    0,    0,    0,    0,    0,    0,    0,    0,    0,\n",
              "          0,    0,    0,    0,    0,    0,    0,    0,    0,    0,    0,\n",
              "          0,    0,    0,    0,    0,    0,    0,    0,    0,    0,    0,\n",
              "          0,    0,    0,    0,    0,    0,    0,    0,    0,    0,    0,\n",
              "          0,    0,    0,    0,    0,    0,    0,    0,    0,    0,    0,\n",
              "          0,    0,    0,    0,    0,    0,    0,    0,    0,    0,    0,\n",
              "          0,    0,    0,    0,    0,    0,    0,    0,    0,    0,    0,\n",
              "          0,    0,    0,    0,    1,  194, 1153,  194,    2,   78,  228,\n",
              "          5,    6, 1463, 4369,    2,  134,   26,    4,  715,    8,  118,\n",
              "       1634,   14,  394,   20,   13,  119,  954,  189,  102,    5,  207,\n",
              "        110, 3103,   21,   14,   69,  188,    8,   30,   23,    7,    4,\n",
              "        249,  126,   93,    4,  114,    9, 2300, 1523,    5,  647,    4,\n",
              "        116,    9,   35,    2,    4,  229,    9,  340, 1322,    4,  118,\n",
              "          9,    4,  130, 4901,   19,    4, 1002,    5,   89,   29,  952,\n",
              "         46,   37,    4,  455,    9,   45,   43,   38, 1543, 1905,  398,\n",
              "          4, 1649,   26,    2,    5,  163,   11, 3215,    2,    4, 1153,\n",
              "          9,  194,  775,    7,    2,    2,  349, 2637,  148,  605,    2,\n",
              "          2,   15,  123,  125,   68,    2,    2,   15,  349,  165, 4362,\n",
              "         98,    5,    4,  228,    9,   43,    2, 1157,   15,  299,  120,\n",
              "          5,  120,  174,   11,  220,  175,  136,   50,    9, 4373,  228,\n",
              "          2,    5,    2,  656,  245, 2350,    5,    4,    2,  131,  152,\n",
              "        491,   18,    2,   32,    2, 1212,   14,    9,    6,  371,   78,\n",
              "         22,  625,   64, 1382,    9,    8,  168,  145,   23,    4, 1690,\n",
              "         15,   16,    4, 1355,    5,   28,    6,   52,  154,  462,   33,\n",
              "         89,   78,  285,   16,  145,   95], dtype=int32)"
            ]
          },
          "metadata": {},
          "execution_count": 9
        }
      ]
    },
    {
      "cell_type": "code",
      "source": [
        "x_train[0]"
      ],
      "metadata": {
        "colab": {
          "base_uri": "https://localhost:8080/"
        },
        "id": "Nubu9NcR_iJh",
        "outputId": "20708ec9-3948-4323-fbc1-b91fa091792f"
      },
      "execution_count": 10,
      "outputs": [
        {
          "output_type": "execute_result",
          "data": {
            "text/plain": [
              "array([   0,    0,    0,    0,    0,    0,    0,    0,    0,    0,    0,\n",
              "          0,    0,    0,    0,    0,    0,    0,    0,    0,    0,    0,\n",
              "          0,    0,    0,    0,    0,    0,    0,    0,    0,    0,    0,\n",
              "          0,    0,    0,    0,    0,    0,    0,    0,    0,    0,    0,\n",
              "          0,    0,    0,    0,    0,    0,    0,    0,    0,    0,    0,\n",
              "          0,    0,    0,    0,    0,    0,    0,    0,    0,    0,    0,\n",
              "          0,    0,    0,    0,    0,    0,    0,    0,    0,    0,    0,\n",
              "          0,    0,    0,    0,    0,    0,    0,    0,    0,    0,    0,\n",
              "          0,    0,    0,    0,    0,    0,    0,    0,    0,    0,    0,\n",
              "          0,    0,    0,    0,    0,    0,    0,    0,    0,    0,    0,\n",
              "          0,    0,    0,    0,    0,    0,    0,    0,    0,    0,    0,\n",
              "          0,    0,    0,    0,    0,    0,    0,    0,    0,    0,    0,\n",
              "          0,    0,    0,    0,    0,    0,    0,    0,    0,    0,    0,\n",
              "          0,    0,    0,    0,    0,    0,    0,    0,    0,    0,    0,\n",
              "          0,    0,    0,    0,    0,    0,    0,    0,    0,    0,    0,\n",
              "          0,    0,    0,    0,    0,    0,    0,    0,    0,    0,    0,\n",
              "          0,    0,    0,    0,    0,    0,    0,    0,    0,    0,    0,\n",
              "          0,    0,    0,    0,    0,    0,    0,    0,    0,    0,    0,\n",
              "          0,    0,    0,    0,    0,    0,    0,    0,    0,    0,    0,\n",
              "          0,    0,    0,    0,    0,    0,    0,    0,    0,    0,    0,\n",
              "          0,    0,    0,    0,    0,    0,    0,    0,    0,    0,    0,\n",
              "          0,    0,    0,    0,    0,    0,    0,    0,    0,    0,    0,\n",
              "          0,    0,    0,    0,    0,    0,    0,    0,    0,    0,    0,\n",
              "          0,    0,    0,    0,    0,    0,    0,    0,    0,    0,    0,\n",
              "          0,    0,    0,    0,    0,    0,    0,    0,    0,    0,    0,\n",
              "          0,    0,    0,    0,    0,    0,    0,    0,    0,    0,    0,\n",
              "          0,    0,    0,    0,    0,    0,    0,    0,    0,    0,    0,\n",
              "          0,    0,    0,    0,    0,    0,    0,    0,    0,    0,    0,\n",
              "          0,    0,    0,    0,    0,    0,    0,    0,    0,    0,    0,\n",
              "          0,    0,    0,    0,    0,    0,    0,    0,    0,    0,    0,\n",
              "          0,    0,    0,    0,    0,    0,    0,    0,    0,    0,    0,\n",
              "          0,    0,    0,    0,    0,    0,    0,    0,    0,    0,    0,\n",
              "          0,    0,    0,    0,    0,    0,    0,    0,    0,    0,    0,\n",
              "          0,    0,    0,    0,    0,    0,    0,    0,    0,    0,    0,\n",
              "          0,    0,    0,    0,    0,    0,    0,    0,    1,   14,   22,\n",
              "         16,   43,  530,  973, 1622, 1385,   65,  458, 4468,   66, 3941,\n",
              "          4,  173,   36,  256,    5,   25,  100,   43,  838,  112,   50,\n",
              "        670,    2,    9,   35,  480,  284,    5,  150,    4,  172,  112,\n",
              "        167,    2,  336,  385,   39,    4,  172, 4536, 1111,   17,  546,\n",
              "         38,   13,  447,    4,  192,   50,   16,    6,  147, 2025,   19,\n",
              "         14,   22,    4, 1920, 4613,  469,    4,   22,   71,   87,   12,\n",
              "         16,   43,  530,   38,   76,   15,   13, 1247,    4,   22,   17,\n",
              "        515,   17,   12,   16,  626,   18,    2,    5,   62,  386,   12,\n",
              "          8,  316,    8,  106,    5,    4, 2223,    2,   16,  480,   66,\n",
              "       3785,   33,    4,  130,   12,   16,   38,  619,    5,   25,  124,\n",
              "         51,   36,  135,   48,   25, 1415,   33,    6,   22,   12,  215,\n",
              "         28,   77,   52,    5,   14,  407,   16,   82,    2,    8,    4,\n",
              "        107,  117,    2,   15,  256,    4,    2,    7, 3766,    5,  723,\n",
              "         36,   71,   43,  530,  476,   26,  400,  317,   46,    7,    4,\n",
              "          2, 1029,   13,  104,   88,    4,  381,   15,  297,   98,   32,\n",
              "       2071,   56,   26,  141,    6,  194,    2,   18,    4,  226,   22,\n",
              "         21,  134,  476,   26,  480,    5,  144,   30,    2,   18,   51,\n",
              "         36,   28,  224,   92,   25,  104,    4,  226,   65,   16,   38,\n",
              "       1334,   88,   12,   16,  283,    5,   16, 4472,  113,  103,   32,\n",
              "         15,   16,    2,   19,  178,   32], dtype=int32)"
            ]
          },
          "metadata": {},
          "execution_count": 10
        }
      ]
    },
    {
      "cell_type": "code",
      "source": [
        "'''\n",
        "embedding_vector_length=32\n",
        "\n",
        "model= Sequential() \n",
        "model.add(Embedding(top_words,32,input_length=max_review_length))\n",
        "model.add(LSTM(100))\n",
        "model.add(Dense(1,activation='sigmoid'))\n",
        "model.compile(loss='binary_crossentropy',optimizer='adam',metrics=['accuracy'])\n",
        "history=model.fit(x_train,y_train,validation_data=(x_test,y_test),epochs=10,batch_size=64)\n",
        "'''"
      ],
      "metadata": {
        "colab": {
          "base_uri": "https://localhost:8080/",
          "height": 105
        },
        "id": "j2RxwXc5_iGz",
        "outputId": "79edeae6-c0ec-4799-95ab-1694f077643b"
      },
      "execution_count": 11,
      "outputs": [
        {
          "output_type": "execute_result",
          "data": {
            "text/plain": [
              "\"\\nembedding_vector_length=32\\n\\nmodel= Sequential() \\nmodel.add(Embedding(top_words,32,input_length=max_review_length))\\nmodel.add(LSTM(100))\\nmodel.add(Dense(1,activation='sigmoid'))\\nmodel.compile(loss='binary_crossentropy',optimizer='adam',metrics=['accuracy'])\\nhistory=model.fit(x_train,y_train,validation_data=(x_test,y_test),epochs=10,batch_size=64)\\n\""
            ],
            "application/vnd.google.colaboratory.intrinsic+json": {
              "type": "string"
            }
          },
          "metadata": {},
          "execution_count": 11
        }
      ]
    },
    {
      "cell_type": "markdown",
      "source": [
        "Pandas Datareader"
      ],
      "metadata": {
        "id": "Mh_s0ChYF7x_"
      }
    },
    {
      "cell_type": "code",
      "source": [
        "!pip install pandas-datareader"
      ],
      "metadata": {
        "colab": {
          "base_uri": "https://localhost:8080/"
        },
        "id": "wIt9HsYDFhXQ",
        "outputId": "95a21385-beff-48dd-83bf-a9d8e353ec49"
      },
      "execution_count": 12,
      "outputs": [
        {
          "output_type": "stream",
          "name": "stdout",
          "text": [
            "Looking in indexes: https://pypi.org/simple, https://us-python.pkg.dev/colab-wheels/public/simple/\n",
            "Requirement already satisfied: pandas-datareader in /usr/local/lib/python3.10/dist-packages (0.10.0)\n",
            "Requirement already satisfied: pandas>=0.23 in /usr/local/lib/python3.10/dist-packages (from pandas-datareader) (1.5.3)\n",
            "Requirement already satisfied: requests>=2.19.0 in /usr/local/lib/python3.10/dist-packages (from pandas-datareader) (2.27.1)\n",
            "Requirement already satisfied: lxml in /usr/local/lib/python3.10/dist-packages (from pandas-datareader) (4.9.2)\n",
            "Requirement already satisfied: python-dateutil>=2.8.1 in /usr/local/lib/python3.10/dist-packages (from pandas>=0.23->pandas-datareader) (2.8.2)\n",
            "Requirement already satisfied: numpy>=1.21.0 in /usr/local/lib/python3.10/dist-packages (from pandas>=0.23->pandas-datareader) (1.22.4)\n",
            "Requirement already satisfied: pytz>=2020.1 in /usr/local/lib/python3.10/dist-packages (from pandas>=0.23->pandas-datareader) (2022.7.1)\n",
            "Requirement already satisfied: idna<4,>=2.5 in /usr/local/lib/python3.10/dist-packages (from requests>=2.19.0->pandas-datareader) (3.4)\n",
            "Requirement already satisfied: certifi>=2017.4.17 in /usr/local/lib/python3.10/dist-packages (from requests>=2.19.0->pandas-datareader) (2022.12.7)\n",
            "Requirement already satisfied: charset-normalizer~=2.0.0 in /usr/local/lib/python3.10/dist-packages (from requests>=2.19.0->pandas-datareader) (2.0.12)\n",
            "Requirement already satisfied: urllib3<1.27,>=1.21.1 in /usr/local/lib/python3.10/dist-packages (from requests>=2.19.0->pandas-datareader) (1.26.15)\n",
            "Requirement already satisfied: six>=1.5 in /usr/local/lib/python3.10/dist-packages (from python-dateutil>=2.8.1->pandas>=0.23->pandas-datareader) (1.16.0)\n"
          ]
        }
      ]
    },
    {
      "cell_type": "code",
      "source": [
        "import pandas_datareader as pdr\n",
        "key= '37a72331c554b45b9491d428c52d54e4f59f80ec'"
      ],
      "metadata": {
        "id": "AdbJryY5_iD7"
      },
      "execution_count": 13,
      "outputs": []
    },
    {
      "cell_type": "code",
      "source": [
        "df= pdr.get_data_tiingo('AAPL', api_key=key)"
      ],
      "metadata": {
        "colab": {
          "base_uri": "https://localhost:8080/"
        },
        "id": "ok4CoZs8HWWa",
        "outputId": "d7e59ed3-4fce-4399-a9b4-b420d4f96249"
      },
      "execution_count": 14,
      "outputs": [
        {
          "output_type": "stream",
          "name": "stderr",
          "text": [
            "<ipython-input-14-cd1655025846>:1: FutureWarning: In a future version of pandas all arguments of concat except for the argument 'objs' will be keyword-only.\n",
            "  df= pdr.get_data_tiingo('AAPL', api_key=key)\n"
          ]
        }
      ]
    },
    {
      "cell_type": "code",
      "source": [
        "df.to_csv('apple.csv')"
      ],
      "metadata": {
        "id": "4mHpP-qZHWTm"
      },
      "execution_count": 15,
      "outputs": []
    },
    {
      "cell_type": "code",
      "source": [
        "df= pd.read_csv('/content/apple.csv')\n",
        "df.head()"
      ],
      "metadata": {
        "colab": {
          "base_uri": "https://localhost:8080/",
          "height": 357
        },
        "id": "zGmzlG3hHWQ7",
        "outputId": "89e2413a-3b61-47c6-eb4e-8a545d655c5b"
      },
      "execution_count": 16,
      "outputs": [
        {
          "output_type": "execute_result",
          "data": {
            "text/plain": [
              "  symbol                       date   close    high     low    open    volume  \\\n",
              "0   AAPL  2018-05-01 00:00:00+00:00  169.10  169.20  165.27  166.41  53569376   \n",
              "1   AAPL  2018-05-02 00:00:00+00:00  176.57  177.75  173.80  175.23  66539371   \n",
              "2   AAPL  2018-05-03 00:00:00+00:00  176.89  177.50  174.44  175.88  34068180   \n",
              "3   AAPL  2018-05-04 00:00:00+00:00  183.83  184.25  178.17  178.25  56201317   \n",
              "4   AAPL  2018-05-07 00:00:00+00:00  185.16  187.67  184.75  185.18  42451423   \n",
              "\n",
              "    adjClose    adjHigh     adjLow    adjOpen  adjVolume  divCash  splitFactor  \n",
              "0  40.297965  40.321796  39.385244  39.656915  214277504      0.0          1.0  \n",
              "1  42.078129  42.359333  41.418015  41.758796  266157484      0.0          1.0  \n",
              "2  42.154388  42.299756  41.570532  41.913697  136272720      0.0          1.0  \n",
              "3  43.808249  43.908339  42.459423  42.478488  224805268      0.0          1.0  \n",
              "4  44.125199  44.723354  44.027493  44.129966  169805692      0.0          1.0  "
            ],
            "text/html": [
              "\n",
              "  <div id=\"df-d325ded2-64d2-45a8-9f2a-c4dc0335ee5c\">\n",
              "    <div class=\"colab-df-container\">\n",
              "      <div>\n",
              "<style scoped>\n",
              "    .dataframe tbody tr th:only-of-type {\n",
              "        vertical-align: middle;\n",
              "    }\n",
              "\n",
              "    .dataframe tbody tr th {\n",
              "        vertical-align: top;\n",
              "    }\n",
              "\n",
              "    .dataframe thead th {\n",
              "        text-align: right;\n",
              "    }\n",
              "</style>\n",
              "<table border=\"1\" class=\"dataframe\">\n",
              "  <thead>\n",
              "    <tr style=\"text-align: right;\">\n",
              "      <th></th>\n",
              "      <th>symbol</th>\n",
              "      <th>date</th>\n",
              "      <th>close</th>\n",
              "      <th>high</th>\n",
              "      <th>low</th>\n",
              "      <th>open</th>\n",
              "      <th>volume</th>\n",
              "      <th>adjClose</th>\n",
              "      <th>adjHigh</th>\n",
              "      <th>adjLow</th>\n",
              "      <th>adjOpen</th>\n",
              "      <th>adjVolume</th>\n",
              "      <th>divCash</th>\n",
              "      <th>splitFactor</th>\n",
              "    </tr>\n",
              "  </thead>\n",
              "  <tbody>\n",
              "    <tr>\n",
              "      <th>0</th>\n",
              "      <td>AAPL</td>\n",
              "      <td>2018-05-01 00:00:00+00:00</td>\n",
              "      <td>169.10</td>\n",
              "      <td>169.20</td>\n",
              "      <td>165.27</td>\n",
              "      <td>166.41</td>\n",
              "      <td>53569376</td>\n",
              "      <td>40.297965</td>\n",
              "      <td>40.321796</td>\n",
              "      <td>39.385244</td>\n",
              "      <td>39.656915</td>\n",
              "      <td>214277504</td>\n",
              "      <td>0.0</td>\n",
              "      <td>1.0</td>\n",
              "    </tr>\n",
              "    <tr>\n",
              "      <th>1</th>\n",
              "      <td>AAPL</td>\n",
              "      <td>2018-05-02 00:00:00+00:00</td>\n",
              "      <td>176.57</td>\n",
              "      <td>177.75</td>\n",
              "      <td>173.80</td>\n",
              "      <td>175.23</td>\n",
              "      <td>66539371</td>\n",
              "      <td>42.078129</td>\n",
              "      <td>42.359333</td>\n",
              "      <td>41.418015</td>\n",
              "      <td>41.758796</td>\n",
              "      <td>266157484</td>\n",
              "      <td>0.0</td>\n",
              "      <td>1.0</td>\n",
              "    </tr>\n",
              "    <tr>\n",
              "      <th>2</th>\n",
              "      <td>AAPL</td>\n",
              "      <td>2018-05-03 00:00:00+00:00</td>\n",
              "      <td>176.89</td>\n",
              "      <td>177.50</td>\n",
              "      <td>174.44</td>\n",
              "      <td>175.88</td>\n",
              "      <td>34068180</td>\n",
              "      <td>42.154388</td>\n",
              "      <td>42.299756</td>\n",
              "      <td>41.570532</td>\n",
              "      <td>41.913697</td>\n",
              "      <td>136272720</td>\n",
              "      <td>0.0</td>\n",
              "      <td>1.0</td>\n",
              "    </tr>\n",
              "    <tr>\n",
              "      <th>3</th>\n",
              "      <td>AAPL</td>\n",
              "      <td>2018-05-04 00:00:00+00:00</td>\n",
              "      <td>183.83</td>\n",
              "      <td>184.25</td>\n",
              "      <td>178.17</td>\n",
              "      <td>178.25</td>\n",
              "      <td>56201317</td>\n",
              "      <td>43.808249</td>\n",
              "      <td>43.908339</td>\n",
              "      <td>42.459423</td>\n",
              "      <td>42.478488</td>\n",
              "      <td>224805268</td>\n",
              "      <td>0.0</td>\n",
              "      <td>1.0</td>\n",
              "    </tr>\n",
              "    <tr>\n",
              "      <th>4</th>\n",
              "      <td>AAPL</td>\n",
              "      <td>2018-05-07 00:00:00+00:00</td>\n",
              "      <td>185.16</td>\n",
              "      <td>187.67</td>\n",
              "      <td>184.75</td>\n",
              "      <td>185.18</td>\n",
              "      <td>42451423</td>\n",
              "      <td>44.125199</td>\n",
              "      <td>44.723354</td>\n",
              "      <td>44.027493</td>\n",
              "      <td>44.129966</td>\n",
              "      <td>169805692</td>\n",
              "      <td>0.0</td>\n",
              "      <td>1.0</td>\n",
              "    </tr>\n",
              "  </tbody>\n",
              "</table>\n",
              "</div>\n",
              "      <button class=\"colab-df-convert\" onclick=\"convertToInteractive('df-d325ded2-64d2-45a8-9f2a-c4dc0335ee5c')\"\n",
              "              title=\"Convert this dataframe to an interactive table.\"\n",
              "              style=\"display:none;\">\n",
              "        \n",
              "  <svg xmlns=\"http://www.w3.org/2000/svg\" height=\"24px\"viewBox=\"0 0 24 24\"\n",
              "       width=\"24px\">\n",
              "    <path d=\"M0 0h24v24H0V0z\" fill=\"none\"/>\n",
              "    <path d=\"M18.56 5.44l.94 2.06.94-2.06 2.06-.94-2.06-.94-.94-2.06-.94 2.06-2.06.94zm-11 1L8.5 8.5l.94-2.06 2.06-.94-2.06-.94L8.5 2.5l-.94 2.06-2.06.94zm10 10l.94 2.06.94-2.06 2.06-.94-2.06-.94-.94-2.06-.94 2.06-2.06.94z\"/><path d=\"M17.41 7.96l-1.37-1.37c-.4-.4-.92-.59-1.43-.59-.52 0-1.04.2-1.43.59L10.3 9.45l-7.72 7.72c-.78.78-.78 2.05 0 2.83L4 21.41c.39.39.9.59 1.41.59.51 0 1.02-.2 1.41-.59l7.78-7.78 2.81-2.81c.8-.78.8-2.07 0-2.86zM5.41 20L4 18.59l7.72-7.72 1.47 1.35L5.41 20z\"/>\n",
              "  </svg>\n",
              "      </button>\n",
              "      \n",
              "  <style>\n",
              "    .colab-df-container {\n",
              "      display:flex;\n",
              "      flex-wrap:wrap;\n",
              "      gap: 12px;\n",
              "    }\n",
              "\n",
              "    .colab-df-convert {\n",
              "      background-color: #E8F0FE;\n",
              "      border: none;\n",
              "      border-radius: 50%;\n",
              "      cursor: pointer;\n",
              "      display: none;\n",
              "      fill: #1967D2;\n",
              "      height: 32px;\n",
              "      padding: 0 0 0 0;\n",
              "      width: 32px;\n",
              "    }\n",
              "\n",
              "    .colab-df-convert:hover {\n",
              "      background-color: #E2EBFA;\n",
              "      box-shadow: 0px 1px 2px rgba(60, 64, 67, 0.3), 0px 1px 3px 1px rgba(60, 64, 67, 0.15);\n",
              "      fill: #174EA6;\n",
              "    }\n",
              "\n",
              "    [theme=dark] .colab-df-convert {\n",
              "      background-color: #3B4455;\n",
              "      fill: #D2E3FC;\n",
              "    }\n",
              "\n",
              "    [theme=dark] .colab-df-convert:hover {\n",
              "      background-color: #434B5C;\n",
              "      box-shadow: 0px 1px 3px 1px rgba(0, 0, 0, 0.15);\n",
              "      filter: drop-shadow(0px 1px 2px rgba(0, 0, 0, 0.3));\n",
              "      fill: #FFFFFF;\n",
              "    }\n",
              "  </style>\n",
              "\n",
              "      <script>\n",
              "        const buttonEl =\n",
              "          document.querySelector('#df-d325ded2-64d2-45a8-9f2a-c4dc0335ee5c button.colab-df-convert');\n",
              "        buttonEl.style.display =\n",
              "          google.colab.kernel.accessAllowed ? 'block' : 'none';\n",
              "\n",
              "        async function convertToInteractive(key) {\n",
              "          const element = document.querySelector('#df-d325ded2-64d2-45a8-9f2a-c4dc0335ee5c');\n",
              "          const dataTable =\n",
              "            await google.colab.kernel.invokeFunction('convertToInteractive',\n",
              "                                                     [key], {});\n",
              "          if (!dataTable) return;\n",
              "\n",
              "          const docLinkHtml = 'Like what you see? Visit the ' +\n",
              "            '<a target=\"_blank\" href=https://colab.research.google.com/notebooks/data_table.ipynb>data table notebook</a>'\n",
              "            + ' to learn more about interactive tables.';\n",
              "          element.innerHTML = '';\n",
              "          dataTable['output_type'] = 'display_data';\n",
              "          await google.colab.output.renderOutput(dataTable, element);\n",
              "          const docLink = document.createElement('div');\n",
              "          docLink.innerHTML = docLinkHtml;\n",
              "          element.appendChild(docLink);\n",
              "        }\n",
              "      </script>\n",
              "    </div>\n",
              "  </div>\n",
              "  "
            ]
          },
          "metadata": {},
          "execution_count": 16
        }
      ]
    },
    {
      "cell_type": "code",
      "source": [
        "df.tail()"
      ],
      "metadata": {
        "colab": {
          "base_uri": "https://localhost:8080/",
          "height": 357
        },
        "id": "9H8welhPHWOM",
        "outputId": "71766a15-6b37-4635-966d-e31b32489b96"
      },
      "execution_count": 17,
      "outputs": [
        {
          "output_type": "execute_result",
          "data": {
            "text/plain": [
              "     symbol                       date   close     high       low     open  \\\n",
              "1253   AAPL  2023-04-24 00:00:00+00:00  165.33  165.600  163.8900  165.000   \n",
              "1254   AAPL  2023-04-25 00:00:00+00:00  163.77  166.305  163.7300  165.190   \n",
              "1255   AAPL  2023-04-26 00:00:00+00:00  163.76  165.280  162.8000  163.055   \n",
              "1256   AAPL  2023-04-27 00:00:00+00:00  168.41  168.560  165.1900  165.190   \n",
              "1257   AAPL  2023-04-28 00:00:00+00:00  169.68  169.850  167.8801  168.490   \n",
              "\n",
              "        volume  adjClose  adjHigh    adjLow  adjOpen  adjVolume  divCash  \\\n",
              "1253  41949581    165.33  165.600  163.8900  165.000   41949581      0.0   \n",
              "1254  48714063    163.77  166.305  163.7300  165.190   48714063      0.0   \n",
              "1255  44105745    163.76  165.280  162.8000  163.055   44105745      0.0   \n",
              "1256  64902329    168.41  168.560  165.1900  165.190   64902329      0.0   \n",
              "1257  55275851    169.68  169.850  167.8801  168.490   55275851      0.0   \n",
              "\n",
              "      splitFactor  \n",
              "1253          1.0  \n",
              "1254          1.0  \n",
              "1255          1.0  \n",
              "1256          1.0  \n",
              "1257          1.0  "
            ],
            "text/html": [
              "\n",
              "  <div id=\"df-b5c5efea-e874-4935-9b19-6919275a9e82\">\n",
              "    <div class=\"colab-df-container\">\n",
              "      <div>\n",
              "<style scoped>\n",
              "    .dataframe tbody tr th:only-of-type {\n",
              "        vertical-align: middle;\n",
              "    }\n",
              "\n",
              "    .dataframe tbody tr th {\n",
              "        vertical-align: top;\n",
              "    }\n",
              "\n",
              "    .dataframe thead th {\n",
              "        text-align: right;\n",
              "    }\n",
              "</style>\n",
              "<table border=\"1\" class=\"dataframe\">\n",
              "  <thead>\n",
              "    <tr style=\"text-align: right;\">\n",
              "      <th></th>\n",
              "      <th>symbol</th>\n",
              "      <th>date</th>\n",
              "      <th>close</th>\n",
              "      <th>high</th>\n",
              "      <th>low</th>\n",
              "      <th>open</th>\n",
              "      <th>volume</th>\n",
              "      <th>adjClose</th>\n",
              "      <th>adjHigh</th>\n",
              "      <th>adjLow</th>\n",
              "      <th>adjOpen</th>\n",
              "      <th>adjVolume</th>\n",
              "      <th>divCash</th>\n",
              "      <th>splitFactor</th>\n",
              "    </tr>\n",
              "  </thead>\n",
              "  <tbody>\n",
              "    <tr>\n",
              "      <th>1253</th>\n",
              "      <td>AAPL</td>\n",
              "      <td>2023-04-24 00:00:00+00:00</td>\n",
              "      <td>165.33</td>\n",
              "      <td>165.600</td>\n",
              "      <td>163.8900</td>\n",
              "      <td>165.000</td>\n",
              "      <td>41949581</td>\n",
              "      <td>165.33</td>\n",
              "      <td>165.600</td>\n",
              "      <td>163.8900</td>\n",
              "      <td>165.000</td>\n",
              "      <td>41949581</td>\n",
              "      <td>0.0</td>\n",
              "      <td>1.0</td>\n",
              "    </tr>\n",
              "    <tr>\n",
              "      <th>1254</th>\n",
              "      <td>AAPL</td>\n",
              "      <td>2023-04-25 00:00:00+00:00</td>\n",
              "      <td>163.77</td>\n",
              "      <td>166.305</td>\n",
              "      <td>163.7300</td>\n",
              "      <td>165.190</td>\n",
              "      <td>48714063</td>\n",
              "      <td>163.77</td>\n",
              "      <td>166.305</td>\n",
              "      <td>163.7300</td>\n",
              "      <td>165.190</td>\n",
              "      <td>48714063</td>\n",
              "      <td>0.0</td>\n",
              "      <td>1.0</td>\n",
              "    </tr>\n",
              "    <tr>\n",
              "      <th>1255</th>\n",
              "      <td>AAPL</td>\n",
              "      <td>2023-04-26 00:00:00+00:00</td>\n",
              "      <td>163.76</td>\n",
              "      <td>165.280</td>\n",
              "      <td>162.8000</td>\n",
              "      <td>163.055</td>\n",
              "      <td>44105745</td>\n",
              "      <td>163.76</td>\n",
              "      <td>165.280</td>\n",
              "      <td>162.8000</td>\n",
              "      <td>163.055</td>\n",
              "      <td>44105745</td>\n",
              "      <td>0.0</td>\n",
              "      <td>1.0</td>\n",
              "    </tr>\n",
              "    <tr>\n",
              "      <th>1256</th>\n",
              "      <td>AAPL</td>\n",
              "      <td>2023-04-27 00:00:00+00:00</td>\n",
              "      <td>168.41</td>\n",
              "      <td>168.560</td>\n",
              "      <td>165.1900</td>\n",
              "      <td>165.190</td>\n",
              "      <td>64902329</td>\n",
              "      <td>168.41</td>\n",
              "      <td>168.560</td>\n",
              "      <td>165.1900</td>\n",
              "      <td>165.190</td>\n",
              "      <td>64902329</td>\n",
              "      <td>0.0</td>\n",
              "      <td>1.0</td>\n",
              "    </tr>\n",
              "    <tr>\n",
              "      <th>1257</th>\n",
              "      <td>AAPL</td>\n",
              "      <td>2023-04-28 00:00:00+00:00</td>\n",
              "      <td>169.68</td>\n",
              "      <td>169.850</td>\n",
              "      <td>167.8801</td>\n",
              "      <td>168.490</td>\n",
              "      <td>55275851</td>\n",
              "      <td>169.68</td>\n",
              "      <td>169.850</td>\n",
              "      <td>167.8801</td>\n",
              "      <td>168.490</td>\n",
              "      <td>55275851</td>\n",
              "      <td>0.0</td>\n",
              "      <td>1.0</td>\n",
              "    </tr>\n",
              "  </tbody>\n",
              "</table>\n",
              "</div>\n",
              "      <button class=\"colab-df-convert\" onclick=\"convertToInteractive('df-b5c5efea-e874-4935-9b19-6919275a9e82')\"\n",
              "              title=\"Convert this dataframe to an interactive table.\"\n",
              "              style=\"display:none;\">\n",
              "        \n",
              "  <svg xmlns=\"http://www.w3.org/2000/svg\" height=\"24px\"viewBox=\"0 0 24 24\"\n",
              "       width=\"24px\">\n",
              "    <path d=\"M0 0h24v24H0V0z\" fill=\"none\"/>\n",
              "    <path d=\"M18.56 5.44l.94 2.06.94-2.06 2.06-.94-2.06-.94-.94-2.06-.94 2.06-2.06.94zm-11 1L8.5 8.5l.94-2.06 2.06-.94-2.06-.94L8.5 2.5l-.94 2.06-2.06.94zm10 10l.94 2.06.94-2.06 2.06-.94-2.06-.94-.94-2.06-.94 2.06-2.06.94z\"/><path d=\"M17.41 7.96l-1.37-1.37c-.4-.4-.92-.59-1.43-.59-.52 0-1.04.2-1.43.59L10.3 9.45l-7.72 7.72c-.78.78-.78 2.05 0 2.83L4 21.41c.39.39.9.59 1.41.59.51 0 1.02-.2 1.41-.59l7.78-7.78 2.81-2.81c.8-.78.8-2.07 0-2.86zM5.41 20L4 18.59l7.72-7.72 1.47 1.35L5.41 20z\"/>\n",
              "  </svg>\n",
              "      </button>\n",
              "      \n",
              "  <style>\n",
              "    .colab-df-container {\n",
              "      display:flex;\n",
              "      flex-wrap:wrap;\n",
              "      gap: 12px;\n",
              "    }\n",
              "\n",
              "    .colab-df-convert {\n",
              "      background-color: #E8F0FE;\n",
              "      border: none;\n",
              "      border-radius: 50%;\n",
              "      cursor: pointer;\n",
              "      display: none;\n",
              "      fill: #1967D2;\n",
              "      height: 32px;\n",
              "      padding: 0 0 0 0;\n",
              "      width: 32px;\n",
              "    }\n",
              "\n",
              "    .colab-df-convert:hover {\n",
              "      background-color: #E2EBFA;\n",
              "      box-shadow: 0px 1px 2px rgba(60, 64, 67, 0.3), 0px 1px 3px 1px rgba(60, 64, 67, 0.15);\n",
              "      fill: #174EA6;\n",
              "    }\n",
              "\n",
              "    [theme=dark] .colab-df-convert {\n",
              "      background-color: #3B4455;\n",
              "      fill: #D2E3FC;\n",
              "    }\n",
              "\n",
              "    [theme=dark] .colab-df-convert:hover {\n",
              "      background-color: #434B5C;\n",
              "      box-shadow: 0px 1px 3px 1px rgba(0, 0, 0, 0.15);\n",
              "      filter: drop-shadow(0px 1px 2px rgba(0, 0, 0, 0.3));\n",
              "      fill: #FFFFFF;\n",
              "    }\n",
              "  </style>\n",
              "\n",
              "      <script>\n",
              "        const buttonEl =\n",
              "          document.querySelector('#df-b5c5efea-e874-4935-9b19-6919275a9e82 button.colab-df-convert');\n",
              "        buttonEl.style.display =\n",
              "          google.colab.kernel.accessAllowed ? 'block' : 'none';\n",
              "\n",
              "        async function convertToInteractive(key) {\n",
              "          const element = document.querySelector('#df-b5c5efea-e874-4935-9b19-6919275a9e82');\n",
              "          const dataTable =\n",
              "            await google.colab.kernel.invokeFunction('convertToInteractive',\n",
              "                                                     [key], {});\n",
              "          if (!dataTable) return;\n",
              "\n",
              "          const docLinkHtml = 'Like what you see? Visit the ' +\n",
              "            '<a target=\"_blank\" href=https://colab.research.google.com/notebooks/data_table.ipynb>data table notebook</a>'\n",
              "            + ' to learn more about interactive tables.';\n",
              "          element.innerHTML = '';\n",
              "          dataTable['output_type'] = 'display_data';\n",
              "          await google.colab.output.renderOutput(dataTable, element);\n",
              "          const docLink = document.createElement('div');\n",
              "          docLink.innerHTML = docLinkHtml;\n",
              "          element.appendChild(docLink);\n",
              "        }\n",
              "      </script>\n",
              "    </div>\n",
              "  </div>\n",
              "  "
            ]
          },
          "metadata": {},
          "execution_count": 17
        }
      ]
    },
    {
      "cell_type": "code",
      "source": [
        "df1= df.reset_index()['close']\n",
        "df1"
      ],
      "metadata": {
        "colab": {
          "base_uri": "https://localhost:8080/"
        },
        "id": "rmWNsoCmHWLI",
        "outputId": "7426aca0-1f89-487e-cf59-7a3e3c5cc9b0"
      },
      "execution_count": 18,
      "outputs": [
        {
          "output_type": "execute_result",
          "data": {
            "text/plain": [
              "0       169.10\n",
              "1       176.57\n",
              "2       176.89\n",
              "3       183.83\n",
              "4       185.16\n",
              "         ...  \n",
              "1253    165.33\n",
              "1254    163.77\n",
              "1255    163.76\n",
              "1256    168.41\n",
              "1257    169.68\n",
              "Name: close, Length: 1258, dtype: float64"
            ]
          },
          "metadata": {},
          "execution_count": 18
        }
      ]
    },
    {
      "cell_type": "code",
      "source": [
        "df1.isnull().sum()"
      ],
      "metadata": {
        "colab": {
          "base_uri": "https://localhost:8080/"
        },
        "id": "VjdU7ahXHWIA",
        "outputId": "93851388-6b9b-4bd2-e9a0-00399a635673"
      },
      "execution_count": 19,
      "outputs": [
        {
          "output_type": "execute_result",
          "data": {
            "text/plain": [
              "0"
            ]
          },
          "metadata": {},
          "execution_count": 19
        }
      ]
    },
    {
      "cell_type": "code",
      "source": [
        "import matplotlib.pyplot as plt\n",
        "plt.plot(df1)"
      ],
      "metadata": {
        "colab": {
          "base_uri": "https://localhost:8080/",
          "height": 447
        },
        "id": "ULdqgpIAHWFH",
        "outputId": "26c60ccb-ae9e-4832-8f15-522699b4b4d3"
      },
      "execution_count": 20,
      "outputs": [
        {
          "output_type": "execute_result",
          "data": {
            "text/plain": [
              "[<matplotlib.lines.Line2D at 0x7f6150ca3970>]"
            ]
          },
          "metadata": {},
          "execution_count": 20
        },
        {
          "output_type": "display_data",
          "data": {
            "text/plain": [
              "<Figure size 640x480 with 1 Axes>"
            ],
            "image/png": "[encoded data removed]"
          },
          "metadata": {}
        }
      ]
    },
    {
      "cell_type": "code",
      "source": [
        "import numpy as np\n",
        "\n",
        "from sklearn.preprocessing import MinMaxScaler\n",
        "scaler= MinMaxScaler(feature_range=(0,1))\n",
        "df1= scaler.fit_transform(np.array(df1).reshape(-1,1))# E.g. 50 rows and 1 column"
      ],
      "metadata": {
        "id": "gdKOtQgI_iBU"
      },
      "execution_count": 21,
      "outputs": []
    },
    {
      "cell_type": "code",
      "source": [
        "df1"
      ],
      "metadata": {
        "colab": {
          "base_uri": "https://localhost:8080/"
        },
        "id": "0BrxXFAF_h-R",
        "outputId": "2dc98fda-b901-4e40-8269-d4666c6aa5e7"
      },
      "execution_count": 22,
      "outputs": [
        {
          "output_type": "execute_result",
          "data": {
            "text/plain": [
              "array([[0.15594239],\n",
              "       [0.17465247],\n",
              "       [0.17545398],\n",
              "       ...,\n",
              "       [0.14256731],\n",
              "       [0.15421415],\n",
              "       [0.15739512]])"
            ]
          },
          "metadata": {},
          "execution_count": 22
        }
      ]
    },
    {
      "cell_type": "code",
      "source": [
        "from statsmodels.tsa.seasonal import seasonal_decompose\n",
        "decomposition= seasonal_decompose(df['close'],model='additive',period=12)\n",
        "decomposition.plot()\n",
        "plt.show()"
      ],
      "metadata": {
        "colab": {
          "base_uri": "https://localhost:8080/",
          "height": 487
        },
        "id": "YqhDC_G_YWpR",
        "outputId": "d41dae04-72f4-4789-e697-98a6a065f7bb"
      },
      "execution_count": 23,
      "outputs": [
        {
          "output_type": "display_data",
          "data": {
            "text/plain": [
              "<Figure size 640x480 with 4 Axes>"
            ],
            "image/png": "[encoded data removed]"
          },
          "metadata": {}
        }
      ]
    },
    {
      "cell_type": "code",
      "source": [
        "from statsmodels.tsa.seasonal import seasonal_decompose\n",
        "decomposition= seasonal_decompose(df['close'],model='multiplicative',period=12)\n",
        "decomposition.plot()\n",
        "plt.show()"
      ],
      "metadata": {
        "colab": {
          "base_uri": "https://localhost:8080/",
          "height": 486
        },
        "id": "oBldrVw1gV2c",
        "outputId": "333c3199-eac2-414f-a069-6dc9b98aa4a5"
      },
      "execution_count": 24,
      "outputs": [
        {
          "output_type": "display_data",
          "data": {
            "text/plain": [
              "<Figure size 640x480 with 4 Axes>"
            ],
            "image/png": "[encoded data removed]"
          },
          "metadata": {}
        }
      ]
    },
    {
      "cell_type": "code",
      "source": [
        "# Split the data into train and test\n",
        "train_size= int(len(df1)*0.65)\n",
        "test_size=len(df1)-train_size\n",
        "train_data, test_data= df1[0:train_size,:], df1[train_size:len(df1),:1]"
      ],
      "metadata": {
        "id": "KMJY1725_h7K"
      },
      "execution_count": 25,
      "outputs": []
    },
    {
      "cell_type": "code",
      "source": [
        "train_data.shape"
      ],
      "metadata": {
        "colab": {
          "base_uri": "https://localhost:8080/"
        },
        "id": "IVHQTWCaIK13",
        "outputId": "45fb028d-3af8-4d93-b730-5caf06a80942"
      },
      "execution_count": 26,
      "outputs": [
        {
          "output_type": "execute_result",
          "data": {
            "text/plain": [
              "(817, 1)"
            ]
          },
          "metadata": {},
          "execution_count": 26
        }
      ]
    },
    {
      "cell_type": "code",
      "source": [
        "test_data.shape"
      ],
      "metadata": {
        "colab": {
          "base_uri": "https://localhost:8080/"
        },
        "id": "7uqQ_G1zIKyr",
        "outputId": "9301cf6b-acf8-40d5-f00a-d014bb88fb81"
      },
      "execution_count": 27,
      "outputs": [
        {
          "output_type": "execute_result",
          "data": {
            "text/plain": [
              "(441, 1)"
            ]
          },
          "metadata": {},
          "execution_count": 27
        }
      ]
    },
    {
      "cell_type": "code",
      "source": [
        "def create_dataset(dataset, time_step=1):\n",
        "    datax,datay=[],[]\n",
        "    for i in range(len(dataset)-time_step-1):\n",
        "        a=dataset[i:(i+time_step),0]\n",
        "        datax.append(a)\n",
        "        datay.append(dataset[i+time_step,0])\n",
        "    return np.array(datax), np.array(datay)"
      ],
      "metadata": {
        "id": "-7ZY0QDQZhsJ"
      },
      "execution_count": 28,
      "outputs": []
    },
    {
      "cell_type": "code",
      "source": [
        "# Cross validation approach\n",
        "time_step=100\n",
        "x_train, y_train=create_dataset(train_data, time_step)\n",
        "x_test, y_test=create_dataset(test_data, time_step)"
      ],
      "metadata": {
        "id": "EA99dEdvZhpl"
      },
      "execution_count": 29,
      "outputs": []
    },
    {
      "cell_type": "code",
      "source": [
        "print(x_train.shape, x_test.shape)"
      ],
      "metadata": {
        "colab": {
          "base_uri": "https://localhost:8080/"
        },
        "id": "aLek_GNsZhnR",
        "outputId": "ad60eb33-6372-4bc0-f18e-3b4d7a8fb047"
      },
      "execution_count": 30,
      "outputs": [
        {
          "output_type": "stream",
          "name": "stdout",
          "text": [
            "(716, 100) (340, 100)\n"
          ]
        }
      ]
    },
    {
      "cell_type": "code",
      "source": [
        "x_train"
      ],
      "metadata": {
        "colab": {
          "base_uri": "https://localhost:8080/"
        },
        "id": "ZPQTIHsiZhk3",
        "outputId": "558fee7d-6c7e-47c5-d7d7-664ad0f9e709"
      },
      "execution_count": 31,
      "outputs": [
        {
          "output_type": "execute_result",
          "data": {
            "text/plain": [
              "array([[0.15594239, 0.17465247, 0.17545398, ..., 0.27902317, 0.27934878,\n",
              "        0.28350657],\n",
              "       [0.17465247, 0.17545398, 0.19283657, ..., 0.27934878, 0.28350657,\n",
              "        0.27757044],\n",
              "       [0.17545398, 0.19283657, 0.19616781, ..., 0.28350657, 0.27757044,\n",
              "        0.28541014],\n",
              "       ...,\n",
              "       [0.04578585, 0.03812148, 0.03328741, ..., 0.09845961, 0.09658109,\n",
              "        0.10008766],\n",
              "       [0.03812148, 0.03328741, 0.03651847, ..., 0.09658109, 0.10008766,\n",
              "        0.10449593],\n",
              "       [0.03328741, 0.03651847, 0.02384471, ..., 0.10008766, 0.10449593,\n",
              "        0.10557295]])"
            ]
          },
          "metadata": {},
          "execution_count": 31
        }
      ]
    },
    {
      "cell_type": "code",
      "source": [
        "# Durbin watson test for checking Auto correlation\n",
        "import statsmodels.api as sm"
      ],
      "metadata": {
        "id": "R49o36JrZhh7"
      },
      "execution_count": 32,
      "outputs": []
    },
    {
      "cell_type": "code",
      "source": [
        "sm.stats.durbin_watson(df['close'])"
      ],
      "metadata": {
        "id": "KjBTSMD0Zhe6",
        "colab": {
          "base_uri": "https://localhost:8080/"
        },
        "outputId": "560e8af4-25a0-46ad-bb5e-5acd678d03c8"
      },
      "execution_count": 33,
      "outputs": [
        {
          "output_type": "execute_result",
          "data": {
            "text/plain": [
              "0.0031649238442697327"
            ]
          },
          "metadata": {},
          "execution_count": 33
        }
      ]
    },
    {
      "cell_type": "markdown",
      "source": [
        "As Durbin watson test value<1.5. There is auto correlation."
      ],
      "metadata": {
        "id": "hEjYnVuBXmUQ"
      }
    },
    {
      "cell_type": "code",
      "source": [
        "df1"
      ],
      "metadata": {
        "id": "Q_CW5fCQIKwK",
        "colab": {
          "base_uri": "https://localhost:8080/"
        },
        "outputId": "1d153edc-bad1-4b1b-9492-cb19cd45835a"
      },
      "execution_count": 34,
      "outputs": [
        {
          "output_type": "execute_result",
          "data": {
            "text/plain": [
              "array([[0.15594239],\n",
              "       [0.17465247],\n",
              "       [0.17545398],\n",
              "       ...,\n",
              "       [0.14256731],\n",
              "       [0.15421415],\n",
              "       [0.15739512]])"
            ]
          },
          "metadata": {},
          "execution_count": 34
        }
      ]
    },
    {
      "cell_type": "code",
      "source": [
        "# reshape the dataset- LSTM - 3D\n",
        "# sample, timesteps, features\n",
        "\n",
        "x_train= x_train.reshape(x_train.shape[0], x_train.shape[1],1)\n",
        "x_test= x_test.reshape(x_test.shape[0], x_test.shape[1],1)"
      ],
      "metadata": {
        "id": "VtQapMy6IKtP"
      },
      "execution_count": 35,
      "outputs": []
    },
    {
      "cell_type": "code",
      "source": [
        "# Build LSTM model\n",
        "\n",
        "import tensorflow as tf\n",
        "from tensorflow import keras\n",
        "from tensorflow.keras.models import Sequential\n",
        "from keras.layers import Dense\n",
        "from keras.layers import LSTM"
      ],
      "metadata": {
        "id": "56UZhCW3IKqL"
      },
      "execution_count": 37,
      "outputs": []
    },
    {
      "cell_type": "code",
      "source": [
        "model= Sequential()\n",
        "model.add(LSTM(50, return_sequences=True, input_shape=(100,1)))\n",
        "model.add(LSTM(50, return_sequences=True))\n",
        "model.add(LSTM(50)) \n",
        "model.add(Dense(1))\n",
        "model.compile(optimizer='adam', loss='mean_squared_error')\n",
        "model.fit(x_train,y_train,validation_data=(x_test,y_test),epochs=100,batch_size=64,verbose=1)"
      ],
      "metadata": {
        "colab": {
          "base_uri": "https://localhost:8080/"
        },
        "id": "ZCtEqiqQ5ur2",
        "outputId": "5e44a70b-c662-43f9-91d2-3c1e931b1a98"
      },
      "execution_count": 43,
      "outputs": [
        {
          "output_type": "stream",
          "name": "stdout",
          "text": [
            "Epoch 1/100\n",
            "12/12 [==============================] - 11s 341ms/step - loss: 0.0369 - val_loss: 0.0012\n",
            "Epoch 2/100\n",
            "12/12 [==============================] - 3s 223ms/step - loss: 0.0147 - val_loss: 6.2777e-04\n",
            "Epoch 3/100\n",
            "12/12 [==============================] - 4s 336ms/step - loss: 0.0119 - val_loss: 0.0023\n",
            "Epoch 4/100\n",
            "12/12 [==============================] - 3s 220ms/step - loss: 0.0110 - val_loss: 4.6726e-04\n",
            "Epoch 5/100\n",
            "12/12 [==============================] - 3s 221ms/step - loss: 0.0090 - val_loss: 3.7517e-04\n",
            "Epoch 6/100\n",
            "12/12 [==============================] - 3s 225ms/step - loss: 0.0079 - val_loss: 6.3970e-04\n",
            "Epoch 7/100\n",
            "12/12 [==============================] - 3s 272ms/step - loss: 0.0074 - val_loss: 5.0534e-04\n",
            "Epoch 8/100\n",
            "12/12 [==============================] - 3s 268ms/step - loss: 0.0070 - val_loss: 0.0010\n",
            "Epoch 9/100\n",
            "12/12 [==============================] - 3s 224ms/step - loss: 0.0062 - val_loss: 5.4527e-04\n",
            "Epoch 10/100\n",
            "12/12 [==============================] - 3s 228ms/step - loss: 0.0058 - val_loss: 4.6215e-04\n",
            "Epoch 11/100\n",
            "12/12 [==============================] - 3s 229ms/step - loss: 0.0053 - val_loss: 3.7363e-04\n",
            "Epoch 12/100\n",
            "12/12 [==============================] - 4s 337ms/step - loss: 0.0049 - val_loss: 3.7550e-04\n",
            "Epoch 13/100\n",
            "12/12 [==============================] - 3s 225ms/step - loss: 0.0054 - val_loss: 8.0510e-04\n",
            "Epoch 14/100\n",
            "12/12 [==============================] - 3s 223ms/step - loss: 0.0053 - val_loss: 4.0795e-04\n",
            "Epoch 15/100\n",
            "12/12 [==============================] - 3s 222ms/step - loss: 0.0042 - val_loss: 4.3659e-04\n",
            "Epoch 16/100\n",
            "12/12 [==============================] - 3s 293ms/step - loss: 0.0040 - val_loss: 4.4988e-04\n",
            "Epoch 17/100\n",
            "12/12 [==============================] - 3s 243ms/step - loss: 0.0040 - val_loss: 3.0433e-04\n",
            "Epoch 18/100\n",
            "12/12 [==============================] - 3s 222ms/step - loss: 0.0034 - val_loss: 3.2572e-04\n",
            "Epoch 19/100\n",
            "12/12 [==============================] - 3s 222ms/step - loss: 0.0030 - val_loss: 2.5983e-04\n",
            "Epoch 20/100\n",
            "12/12 [==============================] - 3s 222ms/step - loss: 0.0033 - val_loss: 4.9260e-04\n",
            "Epoch 21/100\n",
            "12/12 [==============================] - 4s 329ms/step - loss: 0.0034 - val_loss: 2.4431e-04\n",
            "Epoch 22/100\n",
            "12/12 [==============================] - 3s 222ms/step - loss: 0.0029 - val_loss: 3.0215e-04\n",
            "Epoch 23/100\n",
            "12/12 [==============================] - 3s 225ms/step - loss: 0.0026 - val_loss: 3.7631e-04\n",
            "Epoch 24/100\n",
            "12/12 [==============================] - 3s 219ms/step - loss: 0.0025 - val_loss: 3.7689e-04\n",
            "Epoch 25/100\n",
            "12/12 [==============================] - 4s 315ms/step - loss: 0.0025 - val_loss: 2.5615e-04\n",
            "Epoch 26/100\n",
            "12/12 [==============================] - 3s 231ms/step - loss: 0.0029 - val_loss: 3.6744e-04\n",
            "Epoch 27/100\n",
            "12/12 [==============================] - 3s 223ms/step - loss: 0.0021 - val_loss: 2.6785e-04\n",
            "Epoch 28/100\n",
            "12/12 [==============================] - 3s 222ms/step - loss: 0.0027 - val_loss: 4.8556e-04\n",
            "Epoch 29/100\n",
            "12/12 [==============================] - 3s 232ms/step - loss: 0.0028 - val_loss: 2.9738e-04\n",
            "Epoch 30/100\n",
            "12/12 [==============================] - 4s 312ms/step - loss: 0.0026 - val_loss: 2.7106e-04\n",
            "Epoch 31/100\n",
            "12/12 [==============================] - 3s 223ms/step - loss: 0.0024 - val_loss: 3.4316e-04\n",
            "Epoch 32/100\n",
            "12/12 [==============================] - 3s 220ms/step - loss: 0.0019 - val_loss: 2.4726e-04\n",
            "Epoch 33/100\n",
            "12/12 [==============================] - 3s 223ms/step - loss: 0.0021 - val_loss: 3.5752e-04\n",
            "Epoch 34/100\n",
            "12/12 [==============================] - 4s 330ms/step - loss: 0.0020 - val_loss: 3.0642e-04\n",
            "Epoch 35/100\n",
            "12/12 [==============================] - 3s 221ms/step - loss: 0.0046 - val_loss: 6.5644e-04\n",
            "Epoch 36/100\n",
            "12/12 [==============================] - 3s 225ms/step - loss: 0.0054 - val_loss: 0.0010\n",
            "Epoch 37/100\n",
            "12/12 [==============================] - 3s 225ms/step - loss: 0.0039 - val_loss: 2.6692e-04\n",
            "Epoch 38/100\n",
            "12/12 [==============================] - 3s 258ms/step - loss: 0.0034 - val_loss: 4.5223e-04\n",
            "Epoch 39/100\n",
            "12/12 [==============================] - 3s 285ms/step - loss: 0.0030 - val_loss: 2.8603e-04\n",
            "Epoch 40/100\n",
            "12/12 [==============================] - 3s 226ms/step - loss: 0.0028 - val_loss: 2.2574e-04\n",
            "Epoch 41/100\n",
            "12/12 [==============================] - 3s 230ms/step - loss: 0.0026 - val_loss: 3.7714e-04\n",
            "Epoch 42/100\n",
            "12/12 [==============================] - 3s 224ms/step - loss: 0.0025 - val_loss: 2.1168e-04\n",
            "Epoch 43/100\n",
            "12/12 [==============================] - 4s 338ms/step - loss: 0.0023 - val_loss: 3.6851e-04\n",
            "Epoch 44/100\n",
            "12/12 [==============================] - 3s 222ms/step - loss: 0.0023 - val_loss: 2.4312e-04\n",
            "Epoch 45/100\n",
            "12/12 [==============================] - 3s 220ms/step - loss: 0.0024 - val_loss: 3.6809e-04\n",
            "Epoch 46/100\n",
            "12/12 [==============================] - 3s 223ms/step - loss: 0.0027 - val_loss: 2.7113e-04\n",
            "Epoch 47/100\n",
            "12/12 [==============================] - 3s 283ms/step - loss: 0.0036 - val_loss: 2.1599e-04\n",
            "Epoch 48/100\n",
            "12/12 [==============================] - 3s 286ms/step - loss: 0.0030 - val_loss: 2.3481e-04\n",
            "Epoch 49/100\n",
            "12/12 [==============================] - 3s 220ms/step - loss: 0.0022 - val_loss: 2.2777e-04\n",
            "Epoch 50/100\n",
            "12/12 [==============================] - 3s 222ms/step - loss: 0.0020 - val_loss: 2.2288e-04\n",
            "Epoch 51/100\n",
            "12/12 [==============================] - 3s 228ms/step - loss: 0.0019 - val_loss: 3.5002e-04\n",
            "Epoch 52/100\n",
            "12/12 [==============================] - 4s 321ms/step - loss: 0.0018 - val_loss: 2.3531e-04\n",
            "Epoch 53/100\n",
            "12/12 [==============================] - 3s 245ms/step - loss: 0.0018 - val_loss: 2.3832e-04\n",
            "Epoch 54/100\n",
            "12/12 [==============================] - 3s 223ms/step - loss: 0.0016 - val_loss: 2.4322e-04\n",
            "Epoch 55/100\n",
            "12/12 [==============================] - 3s 225ms/step - loss: 0.0015 - val_loss: 3.0171e-04\n",
            "Epoch 56/100\n",
            "12/12 [==============================] - 4s 334ms/step - loss: 0.0017 - val_loss: 4.2011e-04\n",
            "Epoch 57/100\n",
            "12/12 [==============================] - 3s 221ms/step - loss: 0.0016 - val_loss: 2.4554e-04\n",
            "Epoch 58/100\n",
            "12/12 [==============================] - 3s 222ms/step - loss: 0.0026 - val_loss: 2.3980e-04\n",
            "Epoch 59/100\n",
            "12/12 [==============================] - 3s 223ms/step - loss: 0.0021 - val_loss: 5.1799e-04\n",
            "Epoch 60/100\n",
            "12/12 [==============================] - 3s 245ms/step - loss: 0.0014 - val_loss: 2.8472e-04\n",
            "Epoch 61/100\n",
            "12/12 [==============================] - 4s 292ms/step - loss: 0.0013 - val_loss: 2.4567e-04\n",
            "Epoch 62/100\n",
            "12/12 [==============================] - 3s 224ms/step - loss: 0.0016 - val_loss: 2.2637e-04\n",
            "Epoch 63/100\n",
            "12/12 [==============================] - 3s 222ms/step - loss: 0.0013 - val_loss: 3.0324e-04\n",
            "Epoch 64/100\n",
            "12/12 [==============================] - 3s 225ms/step - loss: 0.0123 - val_loss: 0.0011\n",
            "Epoch 65/100\n",
            "12/12 [==============================] - 4s 332ms/step - loss: 0.0059 - val_loss: 3.0476e-04\n",
            "Epoch 66/100\n",
            "12/12 [==============================] - 3s 224ms/step - loss: 0.0048 - val_loss: 4.6339e-04\n",
            "Epoch 67/100\n",
            "12/12 [==============================] - 3s 227ms/step - loss: 0.0043 - val_loss: 3.3080e-04\n",
            "Epoch 68/100\n",
            "12/12 [==============================] - 3s 223ms/step - loss: 0.0038 - val_loss: 3.5772e-04\n",
            "Epoch 69/100\n",
            "12/12 [==============================] - 3s 278ms/step - loss: 0.0035 - val_loss: 2.2723e-04\n",
            "Epoch 70/100\n",
            "12/12 [==============================] - 3s 268ms/step - loss: 0.0032 - val_loss: 3.0908e-04\n",
            "Epoch 71/100\n",
            "12/12 [==============================] - 3s 222ms/step - loss: 0.0032 - val_loss: 1.9199e-04\n",
            "Epoch 72/100\n",
            "12/12 [==============================] - 3s 252ms/step - loss: 0.0026 - val_loss: 2.3846e-04\n",
            "Epoch 73/100\n",
            "12/12 [==============================] - 3s 251ms/step - loss: 0.0024 - val_loss: 2.6519e-04\n",
            "Epoch 74/100\n",
            "12/12 [==============================] - 4s 306ms/step - loss: 0.0022 - val_loss: 1.9140e-04\n",
            "Epoch 75/100\n",
            "12/12 [==============================] - 3s 223ms/step - loss: 0.0019 - val_loss: 2.0702e-04\n",
            "Epoch 76/100\n",
            "12/12 [==============================] - 3s 221ms/step - loss: 0.0018 - val_loss: 1.8575e-04\n",
            "Epoch 77/100\n",
            "12/12 [==============================] - 3s 248ms/step - loss: 0.0017 - val_loss: 2.3178e-04\n",
            "Epoch 78/100\n",
            "12/12 [==============================] - 4s 335ms/step - loss: 0.0014 - val_loss: 1.7816e-04\n",
            "Epoch 79/100\n",
            "12/12 [==============================] - 3s 223ms/step - loss: 0.0015 - val_loss: 3.4607e-04\n",
            "Epoch 80/100\n",
            "12/12 [==============================] - 3s 226ms/step - loss: 0.0014 - val_loss: 2.6907e-04\n",
            "Epoch 81/100\n",
            "12/12 [==============================] - 3s 225ms/step - loss: 0.0012 - val_loss: 1.7717e-04\n",
            "Epoch 82/100\n",
            "12/12 [==============================] - 3s 270ms/step - loss: 0.0013 - val_loss: 1.9338e-04\n",
            "Epoch 83/100\n",
            "12/12 [==============================] - 3s 277ms/step - loss: 0.0011 - val_loss: 1.8512e-04\n",
            "Epoch 84/100\n",
            "12/12 [==============================] - 3s 227ms/step - loss: 0.0011 - val_loss: 2.2855e-04\n",
            "Epoch 85/100\n",
            "12/12 [==============================] - 3s 222ms/step - loss: 0.0011 - val_loss: 1.6467e-04\n",
            "Epoch 86/100\n",
            "12/12 [==============================] - 3s 225ms/step - loss: 0.0013 - val_loss: 1.9924e-04\n",
            "Epoch 87/100\n",
            "12/12 [==============================] - 4s 360ms/step - loss: 0.0014 - val_loss: 3.0181e-04\n",
            "Epoch 88/100\n",
            "12/12 [==============================] - 3s 222ms/step - loss: 0.0011 - val_loss: 1.7081e-04\n",
            "Epoch 89/100\n",
            "12/12 [==============================] - 3s 223ms/step - loss: 0.0010 - val_loss: 1.8402e-04\n",
            "Epoch 90/100\n",
            "12/12 [==============================] - 3s 224ms/step - loss: 0.0010 - val_loss: 2.1273e-04\n",
            "Epoch 91/100\n",
            "12/12 [==============================] - 4s 307ms/step - loss: 9.4939e-04 - val_loss: 1.5889e-04\n",
            "Epoch 92/100\n",
            "12/12 [==============================] - 3s 235ms/step - loss: 9.3135e-04 - val_loss: 1.6344e-04\n",
            "Epoch 93/100\n",
            "12/12 [==============================] - 3s 225ms/step - loss: 9.0615e-04 - val_loss: 2.0019e-04\n",
            "Epoch 94/100\n",
            "12/12 [==============================] - 3s 225ms/step - loss: 8.9010e-04 - val_loss: 1.6345e-04\n",
            "Epoch 95/100\n",
            "12/12 [==============================] - 3s 233ms/step - loss: 8.6079e-04 - val_loss: 1.5993e-04\n",
            "Epoch 96/100\n",
            "12/12 [==============================] - 4s 310ms/step - loss: 8.4200e-04 - val_loss: 1.6237e-04\n",
            "Epoch 97/100\n",
            "12/12 [==============================] - 3s 225ms/step - loss: 8.4883e-04 - val_loss: 1.6855e-04\n",
            "Epoch 98/100\n",
            "12/12 [==============================] - 3s 226ms/step - loss: 9.3460e-04 - val_loss: 2.1280e-04\n",
            "Epoch 99/100\n",
            "12/12 [==============================] - 3s 224ms/step - loss: 8.6801e-04 - val_loss: 1.6998e-04\n",
            "Epoch 100/100\n",
            "12/12 [==============================] - 4s 336ms/step - loss: 8.4510e-04 - val_loss: 1.7272e-04\n"
          ]
        },
        {
          "output_type": "execute_result",
          "data": {
            "text/plain": [
              "<keras.callbacks.History at 0x7f615598e140>"
            ]
          },
          "metadata": {},
          "execution_count": 43
        }
      ]
    },
    {
      "cell_type": "code",
      "source": [
        "train_pred=model.predict(x_train)\n",
        "test_pred=model.predict(x_test)"
      ],
      "metadata": {
        "colab": {
          "base_uri": "https://localhost:8080/"
        },
        "id": "adHQjQn75upj",
        "outputId": "00f6931b-e105-4279-c7aa-5c5e5f4243a6"
      },
      "execution_count": 44,
      "outputs": [
        {
          "output_type": "stream",
          "name": "stdout",
          "text": [
            "23/23 [==============================] - 2s 45ms/step\n",
            "11/11 [==============================] - 1s 44ms/step\n"
          ]
        }
      ]
    },
    {
      "cell_type": "code",
      "source": [
        "# Transform your data into original form\n",
        "train_pred= scaler.inverse_transform(train_pred)\n",
        "test_pred= scaler.inverse_transform(test_pred)"
      ],
      "metadata": {
        "id": "ESduevvJ5um9"
      },
      "execution_count": 46,
      "outputs": []
    },
    {
      "cell_type": "code",
      "source": [
        "import math"
      ],
      "metadata": {
        "id": "OkWrn6ie5ukM"
      },
      "execution_count": 47,
      "outputs": []
    },
    {
      "cell_type": "code",
      "source": [
        "from sklearn.metrics import mean_squared_error\n",
        "math.sqrt(mean_squared_error(y_train,train_pred))"
      ],
      "metadata": {
        "colab": {
          "base_uri": "https://localhost:8080/"
        },
        "id": "5OxnDt8P5uhb",
        "outputId": "edcc8252-c3cc-4fbd-91d7-1ee09e73b0ab"
      },
      "execution_count": 48,
      "outputs": [
        {
          "output_type": "execute_result",
          "data": {
            "text/plain": [
              "225.81198141126134"
            ]
          },
          "metadata": {},
          "execution_count": 48
        }
      ]
    },
    {
      "cell_type": "code",
      "source": [
        "math.sqrt(mean_squared_error(y_test,test_pred))"
      ],
      "metadata": {
        "colab": {
          "base_uri": "https://localhost:8080/"
        },
        "id": "ETDF1a6i5uel",
        "outputId": "bb4e501f-60ea-4cdf-ae02-5143db5ea73a"
      },
      "execution_count": 49,
      "outputs": [
        {
          "output_type": "execute_result",
          "data": {
            "text/plain": [
              "153.57932915592372"
            ]
          },
          "metadata": {},
          "execution_count": 49
        }
      ]
    },
    {
      "cell_type": "code",
      "source": [
        "len(test_data)"
      ],
      "metadata": {
        "colab": {
          "base_uri": "https://localhost:8080/"
        },
        "id": "tl2KGw-J_g5F",
        "outputId": "41b29bb7-0404-4b91-dfcf-bf26ca109c2f"
      },
      "execution_count": 51,
      "outputs": [
        {
          "output_type": "execute_result",
          "data": {
            "text/plain": [
              "441"
            ]
          },
          "metadata": {},
          "execution_count": 51
        }
      ]
    },
    {
      "cell_type": "code",
      "source": [
        "x_input=test_data[341:].reshape(1,-1)\n",
        "x_input.shape"
      ],
      "metadata": {
        "colab": {
          "base_uri": "https://localhost:8080/"
        },
        "id": "WApHaMn7_HVj",
        "outputId": "9545c20d-628d-4390-d9e2-2622d06393bc"
      },
      "execution_count": 52,
      "outputs": [
        {
          "output_type": "execute_result",
          "data": {
            "text/plain": [
              "(1, 100)"
            ]
          },
          "metadata": {},
          "execution_count": 52
        }
      ]
    },
    {
      "cell_type": "code",
      "source": [
        "temp_input= list(x_input)\n",
        "temp_input=temp_input[0].tolist()\n",
        "temp_input"
      ],
      "metadata": {
        "colab": {
          "base_uri": "https://localhost:8080/"
        },
        "id": "KV7yZMZK_HSo",
        "outputId": "48a7fcbd-24ed-4e24-d93d-00c68747432d"
      },
      "execution_count": 53,
      "outputs": [
        {
          "output_type": "execute_result",
          "data": {
            "text/plain": [
              "[0.0996618659987476,\n",
              " 0.09034439574201625,\n",
              " 0.08541014402003755,\n",
              " 0.08969317470256727,\n",
              " 0.08846587351283652,\n",
              " 0.0943018159048215,\n",
              " 0.096756418284283,\n",
              " 0.09109580463368816,\n",
              " 0.07428929242329363,\n",
              " 0.06930494677520344,\n",
              " 0.06394489668127734,\n",
              " 0.06376956793988725,\n",
              " 0.07165936130244199,\n",
              " 0.0635942391984971,\n",
              " 0.06266750156543521,\n",
              " 0.05808390732623664,\n",
              " 0.04809016906700059,\n",
              " 0.05703193487789604,\n",
              " 0.05783343769567939,\n",
              " 0.04566061365059482,\n",
              " 0.04889167188478394,\n",
              " 0.045535378835316165,\n",
              " 0.05705698184095176,\n",
              " 0.05838447088290544,\n",
              " 0.05983719474013771,\n",
              " 0.06675015654351907,\n",
              " 0.0665497808390732,\n",
              " 0.0699311208515967,\n",
              " 0.0728866624921728,\n",
              " 0.07105823418910456,\n",
              " 0.07120851596743893,\n",
              " 0.07772072636192856,\n",
              " 0.08583594239198494,\n",
              " 0.08939261114589853,\n",
              " 0.08771446462116467,\n",
              " 0.09297432686286783,\n",
              " 0.09790857858484658,\n",
              " 0.09056981840951783,\n",
              " 0.0938008766437069,\n",
              " 0.09665623043206006,\n",
              " 0.11015654351909826,\n",
              " 0.11937382592360674,\n",
              " 0.1124358171571696,\n",
              " 0.11974953036944269,\n",
              " 0.11291170945522849,\n",
              " 0.11028177833437691,\n",
              " 0.1106324358171571,\n",
              " 0.11774577332498432,\n",
              " 0.11611772072636184,\n",
              " 0.12145272385723233,\n",
              " 0.11739511584220413,\n",
              " 0.11448966812773947,\n",
              " 0.10429555416405756,\n",
              " 0.10537257357545393,\n",
              " 0.10659987476518468,\n",
              " 0.09986224170319347,\n",
              " 0.10289292423293667,\n",
              " 0.10161552911709448,\n",
              " 0.09635566687539132,\n",
              " 0.09785848465873509,\n",
              " 0.11068252974326859,\n",
              " 0.11769567939887288,\n",
              " 0.11211020663744514,\n",
              " 0.11529117094552283,\n",
              " 0.1095804633688165,\n",
              " 0.10434564809016905,\n",
              " 0.10927989981214775,\n",
              " 0.11458985597996241,\n",
              " 0.11559173450219157,\n",
              " 0.12275516593613017,\n",
              " 0.1206261740763932,\n",
              " 0.12663744520976827,\n",
              " 0.13134627426424544,\n",
              " 0.12771446462116465,\n",
              " 0.13046963055729488,\n",
              " 0.13377582968065116,\n",
              " 0.12884157795867246,\n",
              " 0.12726361928616153,\n",
              " 0.13507827175954912,\n",
              " 0.13906073888541015,\n",
              " 0.1454226675015654,\n",
              " 0.14860363180964303,\n",
              " 0.14725109580463364,\n",
              " 0.14256731371321218,\n",
              " 0.14482154038822787,\n",
              " 0.13823418910457103,\n",
              " 0.13515341264871633,\n",
              " 0.1334001252348152,\n",
              " 0.14707576706324355,\n",
              " 0.14619912335629304,\n",
              " 0.14624921728240442,\n",
              " 0.14935504070131495,\n",
              " 0.15226048841577955,\n",
              " 0.14980588603631806,\n",
              " 0.14572323105823415,\n",
              " 0.14649968691296178,\n",
              " 0.14259236067626796,\n",
              " 0.14256731371321218,\n",
              " 0.15421415153412643,\n",
              " 0.15739511584220411]"
            ]
          },
          "metadata": {},
          "execution_count": 53
        }
      ]
    },
    {
      "cell_type": "code",
      "source": [
        "data_new= np.arange(1,100)\n",
        "data_pred=np.arange(100,130)"
      ],
      "metadata": {
        "id": "tAhlwfyb_HNG"
      },
      "execution_count": 58,
      "outputs": []
    },
    {
      "cell_type": "code",
      "source": [
        "# Predict the data for 10 days\n",
        "\n",
        "my_output=[]\n"
      ],
      "metadata": {
        "id": "A76BFduNAqHq"
      },
      "execution_count": null,
      "outputs": []
    },
    {
      "cell_type": "code",
      "source": [],
      "metadata": {
        "id": "OW7JrDMPAp_Q"
      },
      "execution_count": null,
      "outputs": []
    },
    {
      "cell_type": "code",
      "source": [],
      "metadata": {
        "id": "e8zvtR6nAp8K"
      },
      "execution_count": null,
      "outputs": []
    },
    {
      "cell_type": "code",
      "source": [
        "import matplotlib.pyplot as plt\n",
        "plt.plot(data_new,scaler.inverse_transform(df1[1159:]))"
      ],
      "metadata": {
        "colab": {
          "base_uri": "https://localhost:8080/",
          "height": 447
        },
        "id": "siLaJVbl_HKK",
        "outputId": "d76731e2-6c5d-4399-ebc2-ea0d1e0f96f3"
      },
      "execution_count": 59,
      "outputs": [
        {
          "output_type": "execute_result",
          "data": {
            "text/plain": [
              "[<matplotlib.lines.Line2D at 0x7f6153d50760>]"
            ]
          },
          "metadata": {},
          "execution_count": 59
        },
        {
          "output_type": "display_data",
          "data": {
            "text/plain": [
              "<Figure size 640x480 with 1 Axes>"
            ],
            "image/png": "[encoded data removed]"
          },
          "metadata": {}
        }
      ]
    },
    {
      "cell_type": "code",
      "source": [
        "len(df1)"
      ],
      "metadata": {
        "colab": {
          "base_uri": "https://localhost:8080/"
        },
        "id": "0HqTIUey-_kb",
        "outputId": "60ada06d-d9ba-45c8-c085-af238c41a268"
      },
      "execution_count": 55,
      "outputs": [
        {
          "output_type": "execute_result",
          "data": {
            "text/plain": [
              "1258"
            ]
          },
          "metadata": {},
          "execution_count": 55
        }
      ]
    },
    {
      "cell_type": "code",
      "source": [],
      "metadata": {
        "id": "9PhS-QPa-_fi"
      },
      "execution_count": null,
      "outputs": []
    },
    {
      "cell_type": "code",
      "source": [],
      "metadata": {
        "id": "eRTg2FTF-_cr"
      },
      "execution_count": null,
      "outputs": []
    },
    {
      "cell_type": "code",
      "source": [],
      "metadata": {
        "id": "lFezBjJEIKnk"
      },
      "execution_count": 35,
      "outputs": []
    },
    {
      "cell_type": "code",
      "source": [],
      "metadata": {
        "id": "V3PuxCPUIKk9"
      },
      "execution_count": 35,
      "outputs": []
    },
    {
      "cell_type": "code",
      "source": [],
      "metadata": {
        "id": "E95msq4OIKiF"
      },
      "execution_count": 35,
      "outputs": []
    },
    {
      "cell_type": "code",
      "source": [],
      "metadata": {
        "id": "hwKePyo-IKeu"
      },
      "execution_count": 35,
      "outputs": []
    }
  ]
}